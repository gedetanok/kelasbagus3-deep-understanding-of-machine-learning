{
 "cells": [
  {
   "cell_type": "code",
   "execution_count": 133,
   "id": "6ad84b30",
   "metadata": {},
   "outputs": [],
   "source": [
    "import numpy as np\n",
    "import pandas as pd\n",
    "import matplotlib.pyplot as plt\n",
    "import torch\n",
    "import torch.nn as nn\n",
    "import torch.optim as optim\n",
    "from sklearn.preprocessing import MinMaxScaler\n",
    "from sklearn.datasets import load_iris\n",
    "from sklearn.model_selection import train_test_split\n",
    "from sklearn.metrics import classification_report, confusion_matrix"
   ]
  },
  {
   "cell_type": "code",
   "execution_count": 134,
   "id": "3f308e42",
   "metadata": {},
   "outputs": [],
   "source": [
    "from lime.lime_tabular import LimeTabularExplainer\n",
    "import shap\n",
    "import warnings\n",
    "warnings.filterwarnings('ignore')"
   ]
  },
  {
   "cell_type": "code",
   "execution_count": 135,
   "id": "b704623d",
   "metadata": {},
   "outputs": [],
   "source": [
    "iris = load_iris()\n",
    "X = iris['data']\n",
    "y = iris['target']\n",
    "feature_names = iris['feature_names']\n",
    "class_names = iris['target_names']"
   ]
  },
  {
   "cell_type": "code",
   "execution_count": 136,
   "id": "020f6cfd",
   "metadata": {},
   "outputs": [],
   "source": [
    "X_train, X_test, y_train, y_test = train_test_split(X, y, test_size=0.2, random_state=42, stratify=y)"
   ]
  },
  {
   "cell_type": "code",
   "execution_count": 137,
   "id": "d92679c4",
   "metadata": {},
   "outputs": [],
   "source": [
    "scaler = MinMaxScaler()\n",
    "X_train_std = scaler.fit_transform(X_train)\n",
    "X_test_std = scaler.transform(X_test)"
   ]
  },
  {
   "cell_type": "code",
   "execution_count": 138,
   "id": "9c96c6ce",
   "metadata": {},
   "outputs": [],
   "source": [
    "torch.manual_seed(42)\n",
    "device = torch.device('cpu')"
   ]
  },
  {
   "cell_type": "code",
   "execution_count": 139,
   "id": "6ac80816",
   "metadata": {},
   "outputs": [],
   "source": [
    "Xtr_t = torch.tensor(X_train_std, dtype=torch.float32).to(device)\n",
    "ytr_t = torch.tensor(y_train, dtype=torch.long).to(device)\n",
    "Xte_t = torch.tensor(X_test_std, dtype=torch.float32).to(device)\n",
    "yte_t = torch.tensor(y_test, dtype=torch.long).to(device)"
   ]
  },
  {
   "cell_type": "code",
   "execution_count": 140,
   "id": "7b084c52",
   "metadata": {},
   "outputs": [],
   "source": [
    "model = nn.Sequential(\n",
    "    nn.Linear(4, 16),\n",
    "    nn.ReLU(),\n",
    "    nn.Linear(16, 16),\n",
    "    nn.ReLU(),\n",
    "    nn.Linear(16, 3)\n",
    ").to(device)"
   ]
  },
  {
   "cell_type": "code",
   "execution_count": 141,
   "id": "babf97c0",
   "metadata": {},
   "outputs": [],
   "source": [
    "criterion = nn.CrossEntropyLoss() # MSE, MAE\n",
    "optimizer = optim.Adam(model.parameters(), lr=1e-3)\n",
    "epochs = 300"
   ]
  },
  {
   "cell_type": "code",
   "execution_count": 142,
   "id": "6f7422ec",
   "metadata": {},
   "outputs": [],
   "source": [
    "for epoch in range(epochs):\n",
    "    model.train()\n",
    "    optimizer.zero_grad()\n",
    "    logits = model(Xtr_t)\n",
    "    loss = criterion(logits, ytr_t)\n",
    "    loss.backward()\n",
    "    optimizer.step()"
   ]
  },
  {
   "cell_type": "code",
   "execution_count": 143,
   "id": "a8e48f64",
   "metadata": {},
   "outputs": [],
   "source": [
    "model.eval()\n",
    "with torch.no_grad():\n",
    "    logits_te = model(Xte_t)\n",
    "    ypred = logits_te.argmax(dim=1).cpu().numpy()"
   ]
  },
  {
   "cell_type": "code",
   "execution_count": 144,
   "id": "13576df1",
   "metadata": {},
   "outputs": [],
   "source": [
    "from sklearn.metrics import accuracy_score"
   ]
  },
  {
   "cell_type": "code",
   "execution_count": 145,
   "id": "eb1fc46d",
   "metadata": {},
   "outputs": [
    {
     "name": "stdout",
     "output_type": "stream",
     "text": [
      "Acc score: 0.9333333333333333\n",
      "              precision    recall  f1-score   support\n",
      "\n",
      "      setosa       1.00      1.00      1.00        10\n",
      "  versicolor       0.90      0.90      0.90        10\n",
      "   virginica       0.90      0.90      0.90        10\n",
      "\n",
      "    accuracy                           0.93        30\n",
      "   macro avg       0.93      0.93      0.93        30\n",
      "weighted avg       0.93      0.93      0.93        30\n",
      "\n"
     ]
    }
   ],
   "source": [
    "print(f'Acc score: {accuracy_score(y_test, ypred)}')\n",
    "print(classification_report(y_test, ypred, target_names=class_names))"
   ]
  },
  {
   "cell_type": "code",
   "execution_count": null,
   "id": "1a57d248",
   "metadata": {},
   "outputs": [],
   "source": []
  },
  {
   "cell_type": "code",
   "execution_count": null,
   "id": "6ccefc08",
   "metadata": {},
   "outputs": [],
   "source": []
  },
  {
   "cell_type": "code",
   "execution_count": null,
   "id": "8dd38af9",
   "metadata": {},
   "outputs": [],
   "source": []
  },
  {
   "cell_type": "code",
   "execution_count": null,
   "id": "8a96b956",
   "metadata": {},
   "outputs": [],
   "source": []
  },
  {
   "cell_type": "code",
   "execution_count": null,
   "id": "45b35a66",
   "metadata": {},
   "outputs": [],
   "source": []
  },
  {
   "cell_type": "code",
   "execution_count": null,
   "id": "9ba9aba9",
   "metadata": {},
   "outputs": [],
   "source": []
  },
  {
   "cell_type": "code",
   "execution_count": null,
   "id": "a5bf3214",
   "metadata": {},
   "outputs": [],
   "source": []
  },
  {
   "cell_type": "code",
   "execution_count": null,
   "id": "0eefba78",
   "metadata": {},
   "outputs": [],
   "source": []
  },
  {
   "cell_type": "code",
   "execution_count": null,
   "id": "781b819a",
   "metadata": {},
   "outputs": [],
   "source": []
  },
  {
   "cell_type": "code",
   "execution_count": null,
   "id": "616a1939",
   "metadata": {},
   "outputs": [],
   "source": []
  },
  {
   "cell_type": "code",
   "execution_count": null,
   "id": "afcc2aaf",
   "metadata": {},
   "outputs": [],
   "source": []
  },
  {
   "cell_type": "code",
   "execution_count": null,
   "id": "af4eacab",
   "metadata": {},
   "outputs": [],
   "source": []
  },
  {
   "cell_type": "code",
   "execution_count": null,
   "id": "3ba691e8",
   "metadata": {},
   "outputs": [],
   "source": []
  },
  {
   "cell_type": "code",
   "execution_count": null,
   "id": "d0a54cc1",
   "metadata": {},
   "outputs": [],
   "source": []
  },
  {
   "cell_type": "code",
   "execution_count": null,
   "id": "a03223a4",
   "metadata": {},
   "outputs": [],
   "source": []
  },
  {
   "cell_type": "code",
   "execution_count": null,
   "id": "62777a44",
   "metadata": {},
   "outputs": [],
   "source": []
  },
  {
   "cell_type": "code",
   "execution_count": null,
   "id": "8e3eafa7",
   "metadata": {},
   "outputs": [],
   "source": []
  },
  {
   "cell_type": "code",
   "execution_count": null,
   "id": "096e5e7b",
   "metadata": {},
   "outputs": [],
   "source": []
  },
  {
   "cell_type": "code",
   "execution_count": null,
   "id": "12cee5b1",
   "metadata": {},
   "outputs": [],
   "source": []
  },
  {
   "cell_type": "code",
   "execution_count": null,
   "id": "0e7e32da",
   "metadata": {},
   "outputs": [],
   "source": []
  },
  {
   "cell_type": "code",
   "execution_count": null,
   "id": "7b61edcc",
   "metadata": {},
   "outputs": [],
   "source": []
  },
  {
   "cell_type": "code",
   "execution_count": null,
   "id": "dba99299",
   "metadata": {},
   "outputs": [],
   "source": []
  },
  {
   "cell_type": "code",
   "execution_count": null,
   "id": "0edabbc8",
   "metadata": {},
   "outputs": [],
   "source": []
  },
  {
   "cell_type": "code",
   "execution_count": null,
   "id": "d9a6604c",
   "metadata": {},
   "outputs": [],
   "source": []
  },
  {
   "cell_type": "code",
   "execution_count": null,
   "id": "3c98c08a",
   "metadata": {},
   "outputs": [],
   "source": []
  },
  {
   "cell_type": "code",
   "execution_count": 146,
   "id": "867c7323",
   "metadata": {},
   "outputs": [],
   "source": [
    "import numpy as np\n",
    "import pandas as pd\n",
    "import torch\n",
    "import torch.nn as nn\n",
    "import torch.optim as optim\n",
    "from sklearn.datasets import load_iris\n",
    "from sklearn.model_selection import train_test_split\n",
    "from sklearn.preprocessing import StandardScaler\n",
    "from sklearn.metrics import classification_report, accuracy_score"
   ]
  },
  {
   "cell_type": "code",
   "execution_count": 147,
   "id": "78a6ec74",
   "metadata": {},
   "outputs": [],
   "source": [
    "# !pip install lime shap"
   ]
  },
  {
   "cell_type": "code",
   "execution_count": 148,
   "id": "fb4f198f",
   "metadata": {},
   "outputs": [],
   "source": [
    "\n",
    "from lime.lime_tabular import LimeTabularExplainer\n",
    "import shap\n",
    "import warnings\n",
    "warnings.filterwarnings(\"ignore\")"
   ]
  },
  {
   "cell_type": "code",
   "execution_count": 149,
   "id": "da924fb6",
   "metadata": {},
   "outputs": [],
   "source": [
    "iris = load_iris()\n",
    "X = iris['data']\n",
    "y = iris['target']\n",
    "feature_names = iris['feature_names']  # ['sepal length (cm)', 'sepal width (cm)', 'petal length (cm)', 'petal width (cm)']\n",
    "class_names = iris['target_names']     # ['setosa', 'versicolor', 'virginica']\n"
   ]
  },
  {
   "cell_type": "code",
   "execution_count": 150,
   "id": "2dabc202",
   "metadata": {},
   "outputs": [],
   "source": [
    "X_train, X_test, y_train, y_test = train_test_split(\n",
    "    X, y, test_size=0.25, random_state=42, stratify=y\n",
    ")\n"
   ]
  },
  {
   "cell_type": "code",
   "execution_count": 151,
   "id": "8f9cef21",
   "metadata": {},
   "outputs": [],
   "source": [
    "from sklearn.preprocessing import MinMaxScaler"
   ]
  },
  {
   "cell_type": "code",
   "execution_count": 152,
   "id": "e722b5ab",
   "metadata": {},
   "outputs": [],
   "source": [
    "scaler = MinMaxScaler()\n",
    "X_train_std = scaler.fit_transform(X_train)\n",
    "X_test_std  = scaler.transform(X_test)"
   ]
  },
  {
   "cell_type": "code",
   "execution_count": 153,
   "id": "9c63e9e8",
   "metadata": {},
   "outputs": [],
   "source": [
    "torch.manual_seed(42)\n",
    "device = torch.device(\"cpu\")"
   ]
  },
  {
   "cell_type": "code",
   "execution_count": 154,
   "id": "a7d2e317",
   "metadata": {},
   "outputs": [],
   "source": [
    "Xtr_t = torch.tensor(X_train_std, dtype=torch.float32).to(device)\n",
    "ytr_t = torch.tensor(y_train, dtype=torch.long).to(device)\n",
    "Xte_t = torch.tensor(X_test_std,  dtype=torch.float32).to(device)\n",
    "yte_t = torch.tensor(y_test, dtype=torch.long).to(device)"
   ]
  },
  {
   "cell_type": "code",
   "execution_count": 155,
   "id": "a03de262",
   "metadata": {},
   "outputs": [],
   "source": [
    "model = nn.Sequential(\n",
    "    nn.Linear(4, 16),\n",
    "    nn.ReLU(),\n",
    "    nn.Linear(16, 16),\n",
    "    nn.ReLU(),\n",
    "    nn.Linear(16, 3)   # 3 kelas\n",
    ").to(device)\n"
   ]
  },
  {
   "cell_type": "code",
   "execution_count": 156,
   "id": "00cdecf8",
   "metadata": {},
   "outputs": [],
   "source": [
    "criterion = nn.CrossEntropyLoss()\n",
    "optimizer = optim.Adam(model.parameters(), lr=1e-3)\n",
    "epochs = 300"
   ]
  },
  {
   "cell_type": "code",
   "execution_count": 157,
   "id": "69452cd1",
   "metadata": {},
   "outputs": [],
   "source": [
    "for epoch in range(epochs):\n",
    "    model.train()\n",
    "    optimizer.zero_grad()\n",
    "    logits = model(Xtr_t)\n",
    "    loss = criterion(logits, ytr_t)\n",
    "    loss.backward()\n",
    "    optimizer.step()"
   ]
  },
  {
   "cell_type": "code",
   "execution_count": 158,
   "id": "c6e49935",
   "metadata": {},
   "outputs": [],
   "source": [
    "model.eval()\n",
    "with torch.no_grad():\n",
    "    logits_te = model(Xte_t)\n",
    "    ypred = logits_te.argmax(dim=1).cpu().numpy()"
   ]
  },
  {
   "cell_type": "code",
   "execution_count": 159,
   "id": "7dfa70b1",
   "metadata": {},
   "outputs": [
    {
     "name": "stdout",
     "output_type": "stream",
     "text": [
      "Accuracy: 0.9210526315789473\n",
      "              precision    recall  f1-score   support\n",
      "\n",
      "      setosa       1.00      1.00      1.00        12\n",
      "  versicolor       0.86      0.92      0.89        13\n",
      "   virginica       0.92      0.85      0.88        13\n",
      "\n",
      "    accuracy                           0.92        38\n",
      "   macro avg       0.92      0.92      0.92        38\n",
      "weighted avg       0.92      0.92      0.92        38\n",
      "\n"
     ]
    }
   ],
   "source": [
    "print(\"Accuracy:\", accuracy_score(y_test, ypred))\n",
    "print(classification_report(y_test, ypred, target_names=class_names))"
   ]
  },
  {
   "cell_type": "markdown",
   "id": "a6618a2f",
   "metadata": {},
   "source": [
    "## Wrapper predict for XAI"
   ]
  },
  {
   "cell_type": "code",
   "execution_count": 160,
   "id": "8e7580b5",
   "metadata": {},
   "outputs": [],
   "source": [
    "softmax = nn.Softmax(dim=1)"
   ]
  },
  {
   "cell_type": "code",
   "execution_count": 161,
   "id": "abef81bf",
   "metadata": {},
   "outputs": [],
   "source": [
    "def predict_proba_numpy(X_numpy):\n",
    "    model.eval()\n",
    "    Xs = scaler.transform(X_numpy)\n",
    "    Xt = torch.tensor(Xs, dtype=torch.float32).to(device)\n",
    "    with torch.no_grad():\n",
    "        probs = softmax(model(Xt)).cpu().numpy()\n",
    "    return probs"
   ]
  },
  {
   "cell_type": "markdown",
   "id": "357bab37",
   "metadata": {},
   "source": [
    "## LIME"
   ]
  },
  {
   "cell_type": "code",
   "execution_count": 162,
   "id": "502a2bd7",
   "metadata": {},
   "outputs": [],
   "source": [
    "from lime.lime_tabular import LimeTabularExplainer"
   ]
  },
  {
   "cell_type": "code",
   "execution_count": 163,
   "id": "9ac3ed30",
   "metadata": {},
   "outputs": [],
   "source": [
    "explainer_lime = LimeTabularExplainer(\n",
    "    training_data=X_train,               # [FIX] pakai RAW agar konsisten dgn predict_proba_numpy (yang melakukan scaling)\n",
    "    feature_names=feature_names,\n",
    "    class_names=list(class_names),\n",
    "    discretize_continuous=True,\n",
    "    mode='classification'\n",
    ")"
   ]
  },
  {
   "cell_type": "code",
   "execution_count": 164,
   "id": "29f7fa9a",
   "metadata": {},
   "outputs": [],
   "source": [
    "idx = 5\n",
    "x0 = X_test[idx]           # raw\n",
    "x0_std = X_test_std[idx]   # standardized (tak dipakai langsung oleh LIME)\n",
    "y0 = y_test[idx]"
   ]
  },
  {
   "cell_type": "code",
   "execution_count": 165,
   "id": "2ef8b141",
   "metadata": {},
   "outputs": [],
   "source": [
    "# LIME butuh fungsi predict_proba yang menerima RAW (belum di-scale), untuk di scaling\n",
    "# jadi kita bungkus fungsi di atas dengan penyesuaian internal scaling.\n",
    "def predict_proba_raw(X_raw):\n",
    "    return predict_proba_numpy(X_raw)"
   ]
  },
  {
   "cell_type": "code",
   "execution_count": 166,
   "id": "5c21a933",
   "metadata": {},
   "outputs": [],
   "source": [
    "lime_exp = explainer_lime.explain_instance(\n",
    "    data_row=x0,               # raw row (LIME yang melakukan discretization/perturbation)\n",
    "    predict_fn=predict_proba_raw,\n",
    "    num_features=4,\n",
    ")"
   ]
  },
  {
   "cell_type": "code",
   "execution_count": 167,
   "id": "413885a5",
   "metadata": {},
   "outputs": [
    {
     "name": "stdout",
     "output_type": "stream",
     "text": [
      "\n",
      "[LIME] Explanation for instance idx = 5\n",
      "True class: versicolor\n",
      "Pred proba: [0.01248827 0.5665273  0.4209844 ]\n"
     ]
    },
    {
     "data": {
      "text/plain": [
       "[('4.30 < petal length (cm) <= 5.10', 0.08899667739813479),\n",
       " ('sepal width (cm) > 3.32', -0.07542770793291541),\n",
       " ('1.30 < petal width (cm) <= 1.82', 0.06578039250134254),\n",
       " ('5.80 < sepal length (cm) <= 6.40', 0.02397340407455005)]"
      ]
     },
     "execution_count": 167,
     "metadata": {},
     "output_type": "execute_result"
    }
   ],
   "source": [
    "print(\"\\n[LIME] Explanation for instance idx =\", idx)\n",
    "print(\"True class:\", class_names[y0])\n",
    "print(\"Pred proba:\", predict_proba_raw(x0.reshape(1,-1))[0])\n",
    "lime_exp.as_list()"
   ]
  },
  {
   "cell_type": "code",
   "execution_count": 168,
   "id": "5e8934ce",
   "metadata": {},
   "outputs": [],
   "source": [
    "import matplotlib.pyplot as plt\n"
   ]
  },
  {
   "cell_type": "code",
   "execution_count": 169,
   "id": "4a2c7676",
   "metadata": {},
   "outputs": [
    {
     "data": {
      "image/png": "[encoded data removed]",
      "text/plain": [
       "<Figure size 640x480 with 1 Axes>"
      ]
     },
     "metadata": {},
     "output_type": "display_data"
    }
   ],
   "source": [
    "fig_lime = lime_exp.as_pyplot_figure()\n",
    "plt.title(f\"LIME Local Explanation (true={class_names[y0]})\")\n",
    "plt.tight_layout()\n",
    "plt.savefig(\"lime_iris_instance.png\", dpi=140)\n",
    "plt.show()"
   ]
  },
  {
   "cell_type": "markdown",
   "id": "005d48a3",
   "metadata": {},
   "source": [
    "## SHAAPPPPP 🫡"
   ]
  },
  {
   "cell_type": "code",
   "execution_count": 170,
   "id": "5458e077",
   "metadata": {},
   "outputs": [
    {
     "data": {
      "text/plain": [
       "112"
      ]
     },
     "execution_count": 170,
     "metadata": {},
     "output_type": "execute_result"
    }
   ],
   "source": [
    "X_train.shape[0]"
   ]
  },
  {
   "cell_type": "code",
   "execution_count": 171,
   "id": "16497647",
   "metadata": {},
   "outputs": [
    {
     "data": {
      "text/plain": [
       "4"
      ]
     },
     "execution_count": 171,
     "metadata": {},
     "output_type": "execute_result"
    }
   ],
   "source": [
    "X_train.shape[1]"
   ]
  },
  {
   "cell_type": "code",
   "execution_count": 172,
   "id": "61492433",
   "metadata": {},
   "outputs": [],
   "source": [
    "rng = np.random.default_rng(42)\n",
    "m = min(50, X_train.shape[0])                 # mis. 50 baris\n",
    "bg_idx = rng.choice(X_train.shape[0], size=m, replace=False)  # ← sample dari JUMLAH BARIS\n",
    "background = X_train[bg_idx]   "
   ]
  },
  {
   "cell_type": "code",
   "execution_count": 173,
   "id": "b31ebb28",
   "metadata": {},
   "outputs": [],
   "source": [
    "# Pilih beberapa titik background (wajib kecil agar cepat)\n",
    "explainer_shap = shap.KernelExplainer(predict_proba_raw, background)"
   ]
  },
  {
   "cell_type": "code",
   "execution_count": 174,
   "id": "4bf35a0e",
   "metadata": {},
   "outputs": [
    {
     "data": {
      "text/plain": [
       "array([[6. , 3.4, 4.5, 1.6]])"
      ]
     },
     "execution_count": 174,
     "metadata": {},
     "output_type": "execute_result"
    }
   ],
   "source": [
    "x0.reshape(1, -1)"
   ]
  },
  {
   "cell_type": "code",
   "execution_count": 175,
   "id": "f63e9fce",
   "metadata": {},
   "outputs": [
    {
     "data": {
      "application/vnd.jupyter.widget-view+json": {
       "model_id": "0bcb7f3aea974e108d50ba35c158cda2",
       "version_major": 2,
       "version_minor": 0
      },
      "text/plain": [
       "  0%|          | 0/1 [00:00<?, ?it/s]"
      ]
     },
     "metadata": {},
     "output_type": "display_data"
    }
   ],
   "source": [
    "# Jelaskan 1 instance (x0)\n",
    "shap_values_x0 = explainer_shap.shap_values(x0.reshape(1, -1), nsamples=300)"
   ]
  },
  {
   "cell_type": "code",
   "execution_count": 176,
   "id": "2bd941a6",
   "metadata": {},
   "outputs": [
    {
     "data": {
      "text/plain": [
       "array([[[-0.05791457,  0.07706946, -0.01915489],\n",
       "        [ 0.00029853,  0.00695572, -0.00725425],\n",
       "        [-0.13467988,  0.10248288,  0.03219699],\n",
       "        [-0.16295824,  0.12171894,  0.0412393 ]]])"
      ]
     },
     "execution_count": 176,
     "metadata": {},
     "output_type": "execute_result"
    }
   ],
   "source": [
    "shap_values_x0"
   ]
  },
  {
   "cell_type": "code",
   "execution_count": 177,
   "id": "4b236a10",
   "metadata": {},
   "outputs": [
    {
     "name": "stdout",
     "output_type": "stream",
     "text": [
      "0   setosa\n",
      "1   versicolor\n",
      "2   virginica\n"
     ]
    }
   ],
   "source": [
    "for k, cname in enumerate(class_names):\n",
    "    print(k, ' ', cname)"
   ]
  },
  {
   "cell_type": "code",
   "execution_count": 178,
   "id": "1a847eaf",
   "metadata": {},
   "outputs": [
    {
     "data": {
      "text/plain": [
       "array([[[-0.05791457,  0.07706946, -0.01915489],\n",
       "        [ 0.00029853,  0.00695572, -0.00725425],\n",
       "        [-0.13467988,  0.10248288,  0.03219699],\n",
       "        [-0.16295824,  0.12171894,  0.0412393 ]]])"
      ]
     },
     "execution_count": 178,
     "metadata": {},
     "output_type": "execute_result"
    }
   ],
   "source": [
    "shap_values_x0"
   ]
  },
  {
   "cell_type": "code",
   "execution_count": 179,
   "id": "70de6860",
   "metadata": {},
   "outputs": [
    {
     "name": "stdout",
     "output_type": "stream",
     "text": [
      "\n",
      "[SHAP] Per-class shap values for the same instance:\n",
      "  Class=setosa | SHAP per-feature: {'sepal length (cm)': array([-0.058,  0.077, -0.019])}\n",
      "  Class=versicolor | SHAP per-feature: {'sepal length (cm)': array([ 0.   ,  0.007, -0.007])}\n",
      "  Class=virginica | SHAP per-feature: {'sepal length (cm)': array([-0.135,  0.102,  0.032])}\n"
     ]
    }
   ],
   "source": [
    "print(\"\\n[SHAP] Per-class shap values for the same instance:\")\n",
    "sv2d = np.asarray(shap_values_x0)        # pastikan ndarray (4,3)\n",
    "for k, cname in enumerate(class_names):\n",
    "    vals = sv2d[:, k]                    # <-- ambil kolom kelas -> 4 angka (1/ftr)\n",
    "    pairs = dict(zip(feature_names, np.round(vals, 3)))\n",
    "    print(f\"  Class={cname} | SHAP per-feature: {pairs}\")"
   ]
  },
  {
   "cell_type": "code",
   "execution_count": 180,
   "id": "647975f6",
   "metadata": {},
   "outputs": [
    {
     "name": "stdout",
     "output_type": "stream",
     "text": [
      "shap_values_x0 shape: (1, 4, 3)\n"
     ]
    },
    {
     "ename": "IndexError",
     "evalue": "index 1 is out of bounds for axis 0 with size 1",
     "output_type": "error",
     "traceback": [
      "\u001b[0;31m---------------------------------------------------------------------------\u001b[0m",
      "\u001b[0;31mIndexError\u001b[0m                                Traceback (most recent call last)",
      "Cell \u001b[0;32mIn[180], line 19\u001b[0m\n\u001b[1;32m     17\u001b[0m \u001b[38;5;66;03m# bar chart lokal\u001b[39;00m\n\u001b[1;32m     18\u001b[0m plt\u001b[38;5;241m.\u001b[39mfigure()\n\u001b[0;32m---> 19\u001b[0m plt\u001b[38;5;241m.\u001b[39mbar(\u001b[38;5;28mrange\u001b[39m(\u001b[38;5;28mlen\u001b[39m(feature_names)), \u001b[43mlocal_vals\u001b[49m\u001b[43m[\u001b[49m\u001b[43morder\u001b[49m\u001b[43m]\u001b[49m)\n\u001b[1;32m     20\u001b[0m plt\u001b[38;5;241m.\u001b[39mxticks(\u001b[38;5;28mrange\u001b[39m(\u001b[38;5;28mlen\u001b[39m(feature_names)), np\u001b[38;5;241m.\u001b[39marray(feature_names)[order], rotation\u001b[38;5;241m=\u001b[39m\u001b[38;5;241m45\u001b[39m, ha\u001b[38;5;241m=\u001b[39m\u001b[38;5;124m'\u001b[39m\u001b[38;5;124mright\u001b[39m\u001b[38;5;124m'\u001b[39m)\n\u001b[1;32m     21\u001b[0m plt\u001b[38;5;241m.\u001b[39mtitle(\u001b[38;5;124mf\u001b[39m\u001b[38;5;124m\"\u001b[39m\u001b[38;5;124mLocal SHAP | Instance → \u001b[39m\u001b[38;5;132;01m{\u001b[39;00mclass_names[pred_class]\u001b[38;5;132;01m}\u001b[39;00m\u001b[38;5;124m\"\u001b[39m)\n",
      "\u001b[0;31mIndexError\u001b[0m: index 1 is out of bounds for axis 0 with size 1"
     ]
    },
    {
     "data": {
      "text/plain": [
       "<Figure size 640x480 with 0 Axes>"
      ]
     },
     "metadata": {},
     "output_type": "display_data"
    }
   ],
   "source": [
    "import numpy as np\n",
    "import matplotlib.pyplot as plt\n",
    "\n",
    "# pastikan bentuknya 2D (4 fitur x 3 kelas)\n",
    "sv2d = np.asarray(shap_values_x0)        # -> (4, 3)\n",
    "print(\"shap_values_x0 shape:\", sv2d.shape)\n",
    "\n",
    "# kelas terprediksi\n",
    "probs0 = predict_proba_raw(x0.reshape(1,-1))[0]\n",
    "pred_class = int(np.argmax(probs0))\n",
    "\n",
    "# vektor kontribusi 4 fitur untuk kelas terprediksi\n",
    "sv = sv2d[:, pred_class]                 # <-- ambil kolom kelas\n",
    "local_vals = np.abs(sv)\n",
    "order = np.argsort(local_vals)[::-1]\n",
    "\n",
    "# bar chart lokal\n",
    "plt.figure()\n",
    "plt.bar(range(len(feature_names)), local_vals[order])\n",
    "plt.xticks(range(len(feature_names)), np.array(feature_names)[order], rotation=45, ha='right')\n",
    "plt.title(f\"Local SHAP | Instance → {class_names[pred_class]}\")\n",
    "plt.tight_layout(); plt.savefig(\"shap_local_bar.png\", dpi=140)\n",
    "plt.show()\n",
    "\n",
    "# force plot (HTML interaktif)\n",
    "shap.initjs()\n",
    "fp = shap.force_plot(\n",
    "    explainer_shap.expected_value[pred_class],  # expected value utk kelas prediksi\n",
    "    sv,                                         # kontribusi fitur (arah + besar)\n",
    "    x0, feature_names=feature_names\n",
    ")\n",
    "shap.save_html(\"shap_force_instance.html\", fp)\n",
    "print(\"Saved:\", \"shap_local_bar.png\", \"shap_force_instance.html\")\n"
   ]
  },
  {
   "cell_type": "code",
   "execution_count": null,
   "id": "e915596f",
   "metadata": {},
   "outputs": [
    {
     "data": {
      "application/vnd.jupyter.widget-view+json": {
       "model_id": "519ab504b05d4759a1460c77b92c818c",
       "version_major": 2,
       "version_minor": 0
      },
      "text/plain": [
       "  0%|          | 0/38 [00:00<?, ?it/s]"
      ]
     },
     "metadata": {},
     "output_type": "display_data"
    },
    {
     "name": "stdout",
     "output_type": "stream",
     "text": [
      "subset SHAP shape: (38, 4, 3)\n"
     ]
    },
    {
     "data": {
      "image/png": "[encoded data removed]",
      "text/plain": [
       "<Figure size 640x480 with 1 Axes>"
      ]
     },
     "metadata": {},
     "output_type": "display_data"
    },
    {
     "name": "stdout",
     "output_type": "stream",
     "text": [
      "Saved: shap_global_bar.png\n"
     ]
    }
   ],
   "source": [
    "# hitung SHAP utk subset test biar cepat\n",
    "subset = X_test[:40]\n",
    "sv_sub = np.asarray(explainer_shap.shap_values(subset, nsamples=200))  # (N, F, C)\n",
    "print(\"subset SHAP shape:\", sv_sub.shape)\n",
    "\n",
    "# kelas prediksi tiap sampel\n",
    "preds = np.argmax(predict_proba_raw(subset), axis=1)\n",
    "\n",
    "# rata-rata kontribusi absolut per fitur mengikuti kelas prediksi masing-masing sampel\n",
    "mean_abs = np.mean([np.abs(sv_sub[i, :, preds[i]]) for i in range(subset.shape[0])], axis=0)\n",
    "\n",
    "order_g = np.argsort(mean_abs)[::-1]\n",
    "plt.figure()\n",
    "plt.bar(range(len(feature_names)), mean_abs[order_g])\n",
    "plt.xticks(range(len(feature_names)), np.array(feature_names)[order_g], rotation=45, ha='right')\n",
    "plt.title(\"Global Mean |SHAP| by Feature (subset)\")\n",
    "plt.tight_layout(); plt.savefig(\"shap_global_bar.png\", dpi=140)\n",
    "plt.show()\n",
    "\n",
    "print(\"Saved:\", \"shap_global_bar.png\")\n"
   ]
  },
  {
   "cell_type": "code",
   "execution_count": null,
   "id": "d6b6f0ec",
   "metadata": {},
   "outputs": [],
   "source": []
  }
 ],
 "metadata": {
  "kernelspec": {
   "display_name": "mlenv",
   "language": "python",
   "name": "python3"
  },
  "language_info": {
   "codemirror_mode": {
    "name": "ipython",
    "version": 3
   },
   "file_extension": ".py",
   "mimetype": "text/x-python",
   "name": "python",
   "nbconvert_exporter": "python",
   "pygments_lexer": "ipython3",
   "version": "3.10.18"
  }
 },
 "nbformat": 4,
 "nbformat_minor": 5
}
