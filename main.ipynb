{
 "cells": [
  {
   "cell_type": "code",
   "execution_count": null,
   "id": "03b6b6ee",
   "metadata": {},
   "outputs": [
    {
     "name": "stdout",
     "output_type": "stream",
     "text": [
      "iris.csv saved.\n",
      "wine.csv saved.\n",
      "breast_cancer.csv saved.\n",
      "diabetes.csv saved.\n",
      "digits.csv saved.\n",
      "california_housing.csv saved.\n",
      "downloading Olivetti faces from https://ndownloader.figshare.com/files/5976027 to C:\\Users\\gedeb\\scikit_learn_data\n",
      "Olivetti Faces dataset loaded. Shape: (400, 64, 64)\n"
     ]
    }
   ],
   "source": [
    "from sklearn.datasets import (\n",
    "    load_iris,\n",
    "    load_wine,\n",
    "    load_breast_cancer,\n",
    "    load_diabetes,\n",
    "    load_digits,\n",
    "    fetch_california_housing,\n",
    "    fetch_olivetti_faces\n",
    ")\n",
    "import pandas as pd\n",
    "import os\n",
    "\n",
    "# Buat folder untuk simpan dataset\n",
    "os.makedirs(\"sklearn_datasets\", exist_ok=True)\n",
    "\n",
    "# Fungsi bantu untuk menyimpan dataset standar\n",
    "def save_standard_dataset(loader_func, name):\n",
    "    data = loader_func()\n",
    "    df = pd.DataFrame(data.data, columns=data.feature_names if hasattr(data, \"feature_names\") else None)\n",
    "    df['target'] = data.target\n",
    "    df.to_csv(f\"sklearn_datasets/{name}.csv\", index=False)\n",
    "    print(f\"{name}.csv saved.\")\n",
    "\n",
    "# Dataset standar\n",
    "save_standard_dataset(load_iris, \"iris\")\n",
    "save_standard_dataset(load_wine, \"wine\")\n",
    "save_standard_dataset(load_breast_cancer, \"breast_cancer\")\n",
    "save_standard_dataset(load_diabetes, \"diabetes\")\n",
    "save_standard_dataset(load_digits, \"digits\")\n",
    "\n",
    "# California housing \n",
    "california = fetch_california_housing()\n",
    "df_california = pd.DataFrame(california.data, columns=california.feature_names)\n",
    "df_california['target'] = california.target\n",
    "df_california.to_csv(\"sklearn_datasets/california_housing.csv\", index=False)\n",
    "print(\"california_housing.csv saved.\")\n",
    "\n",
    "# Olivetti Faces (tidak cocok disimpan sebagai CSV, bentuk gambar 64x64)\n",
    "faces = fetch_olivetti_faces()\n",
    "print(\"Olivetti Faces dataset loaded. Shape:\", faces.images.shape)\n",
    "\n"
   ]
  },
  {
   "cell_type": "code",
   "execution_count": 2,
   "id": "56e41d8e",
   "metadata": {},
   "outputs": [
    {
     "name": "stdout",
     "output_type": "stream",
     "text": [
      "Collecting ucimlrepo\n",
      "  Using cached ucimlrepo-0.0.7-py3-none-any.whl.metadata (5.5 kB)\n",
      "Requirement already satisfied: pandas>=1.0.0 in d:\\machinelearning\\heart-disease-project\\env\\lib\\site-packages (from ucimlrepo) (2.2.2)\n",
      "Requirement already satisfied: certifi>=2020.12.5 in d:\\machinelearning\\heart-disease-project\\env\\lib\\site-packages (from ucimlrepo) (2024.8.30)\n",
      "Requirement already satisfied: numpy>=1.26.0 in d:\\machinelearning\\heart-disease-project\\env\\lib\\site-packages (from pandas>=1.0.0->ucimlrepo) (1.26.4)\n",
      "Requirement already satisfied: python-dateutil>=2.8.2 in d:\\machinelearning\\heart-disease-project\\env\\lib\\site-packages (from pandas>=1.0.0->ucimlrepo) (2.9.0.post0)\n",
      "Requirement already satisfied: pytz>=2020.1 in d:\\machinelearning\\heart-disease-project\\env\\lib\\site-packages (from pandas>=1.0.0->ucimlrepo) (2024.1)\n",
      "Requirement already satisfied: tzdata>=2022.7 in d:\\machinelearning\\heart-disease-project\\env\\lib\\site-packages (from pandas>=1.0.0->ucimlrepo) (2023.3)\n",
      "Requirement already satisfied: six>=1.5 in d:\\machinelearning\\heart-disease-project\\env\\lib\\site-packages (from python-dateutil>=2.8.2->pandas>=1.0.0->ucimlrepo) (1.16.0)\n",
      "Using cached ucimlrepo-0.0.7-py3-none-any.whl (8.0 kB)\n",
      "Installing collected packages: ucimlrepo\n",
      "Successfully installed ucimlrepo-0.0.7\n"
     ]
    }
   ],
   "source": [
    "!pip install ucimlrepo"
   ]
  },
  {
   "cell_type": "code",
   "execution_count": 3,
   "id": "c7550fa6",
   "metadata": {},
   "outputs": [
    {
     "name": "stdout",
     "output_type": "stream",
     "text": [
      "{'uci_id': 275, 'name': 'Bike Sharing', 'repository_url': 'https://archive.ics.uci.edu/dataset/275/bike+sharing+dataset', 'data_url': 'https://archive.ics.uci.edu/static/public/275/data.csv', 'abstract': 'This dataset contains the hourly and daily count of rental bikes between years 2011 and 2012 in Capital bikeshare system with the corresponding weather and seasonal information.', 'area': 'Social Science', 'tasks': ['Regression'], 'characteristics': ['Multivariate'], 'num_instances': 17389, 'num_features': 13, 'feature_types': ['Integer', 'Real'], 'demographics': [], 'target_col': ['cnt'], 'index_col': ['instant'], 'has_missing_values': 'no', 'missing_values_symbol': None, 'year_of_dataset_creation': 2013, 'last_updated': 'Sun Mar 10 2024', 'dataset_doi': '10.24432/C5W894', 'creators': ['Hadi Fanaee-T'], 'intro_paper': {'ID': 422, 'type': 'NATIVE', 'title': 'Event labeling combining ensemble detectors and background knowledge', 'authors': 'Hadi Fanaee-T, João Gama', 'venue': 'Progress in Artificial Intelligence', 'year': 2013, 'journal': None, 'DOI': '10.1007/s13748-013-0040-3', 'URL': 'https://www.semanticscholar.org/paper/bc42899f599d31a5d759f3e0a3ea8b52479d6423', 'sha': None, 'corpus': None, 'arxiv': None, 'mag': None, 'acl': None, 'pmid': None, 'pmcid': None}, 'additional_info': {'summary': 'Bike sharing systems are new generation of traditional bike rentals where whole process from membership, rental and return back has become automatic. Through these systems, user is able to easily rent a bike from a particular position and return back at another position. Currently, there are about over 500 bike-sharing programs around the world which is composed of over 500 thousands bicycles. Today, there exists great interest in these systems due to their important role in traffic, environmental and health issues. \\r\\n\\r\\nApart from interesting real world applications of bike sharing systems, the characteristics of data being generated by these systems make them attractive for the research. Opposed to other transport services such as bus or subway, the duration of travel, departure and arrival position is explicitly recorded in these systems. This feature turns bike sharing system into a virtual sensor network that can be used for sensing mobility in the city. Hence, it is expected that most of important events in the city could be detected via monitoring these data.', 'purpose': None, 'funded_by': None, 'instances_represent': None, 'recommended_data_splits': None, 'sensitive_data': None, 'preprocessing_description': None, 'variable_info': 'Both hour.csv and day.csv have the following fields, except hr which is not available in day.csv\\r\\n\\t\\r\\n\\t- instant: record index\\r\\n\\t- dteday : date\\r\\n\\t- season : season (1:winter, 2:spring, 3:summer, 4:fall)\\r\\n\\t- yr : year (0: 2011, 1:2012)\\r\\n\\t- mnth : month ( 1 to 12)\\r\\n\\t- hr : hour (0 to 23)\\r\\n\\t- holiday : weather day is holiday or not (extracted from http://dchr.dc.gov/page/holiday-schedule)\\r\\n\\t- weekday : day of the week\\r\\n\\t- workingday : if day is neither weekend nor holiday is 1, otherwise is 0.\\r\\n\\t+ weathersit : \\r\\n\\t\\t- 1: Clear, Few clouds, Partly cloudy, Partly cloudy\\r\\n\\t\\t- 2: Mist + Cloudy, Mist + Broken clouds, Mist + Few clouds, Mist\\r\\n\\t\\t- 3: Light Snow, Light Rain + Thunderstorm + Scattered clouds, Light Rain + Scattered clouds\\r\\n\\t\\t- 4: Heavy Rain + Ice Pallets + Thunderstorm + Mist, Snow + Fog\\r\\n\\t- temp : Normalized temperature in Celsius. The values are derived via (t-t_min)/(t_max-t_min), t_min=-8, t_max=+39 (only in hourly scale)\\r\\n\\t- atemp: Normalized feeling temperature in Celsius. The values are derived via (t-t_min)/(t_max-t_min), t_min=-16, t_max=+50 (only in hourly scale)\\r\\n\\t- hum: Normalized humidity. The values are divided to 100 (max)\\r\\n\\t- windspeed: Normalized wind speed. The values are divided to 67 (max)\\r\\n\\t- casual: count of casual users\\r\\n\\t- registered: count of registered users\\r\\n\\t- cnt: count of total rental bikes including both casual and registered\\r\\n', 'citation': None}}\n",
      "          name     role         type demographic  \\\n",
      "0      instant       ID      Integer        None   \n",
      "1       dteday  Feature         Date        None   \n",
      "2       season  Feature  Categorical        None   \n",
      "3           yr  Feature  Categorical        None   \n",
      "4         mnth  Feature  Categorical        None   \n",
      "5           hr  Feature  Categorical        None   \n",
      "6      holiday  Feature       Binary        None   \n",
      "7      weekday  Feature  Categorical        None   \n",
      "8   workingday  Feature       Binary        None   \n",
      "9   weathersit  Feature  Categorical        None   \n",
      "10        temp  Feature   Continuous        None   \n",
      "11       atemp  Feature   Continuous        None   \n",
      "12         hum  Feature   Continuous        None   \n",
      "13   windspeed  Feature   Continuous        None   \n",
      "14      casual    Other      Integer        None   \n",
      "15  registered    Other      Integer        None   \n",
      "16         cnt   Target      Integer        None   \n",
      "\n",
      "                                          description units missing_values  \n",
      "0                                        record index  None             no  \n",
      "1                                                date  None             no  \n",
      "2                1:winter, 2:spring, 3:summer, 4:fall  None             no  \n",
      "3                             year (0: 2011, 1: 2012)  None             no  \n",
      "4                                     month (1 to 12)  None             no  \n",
      "5                                      hour (0 to 23)  None             no  \n",
      "6   weather day is holiday or not (extracted from ...  None             no  \n",
      "7                                     day of the week  None             no  \n",
      "8   if day is neither weekend nor holiday is 1, ot...  None             no  \n",
      "9   - 1: Clear, Few clouds, Partly cloudy, Partly ...  None             no  \n",
      "10  Normalized temperature in Celsius. The values ...     C             no  \n",
      "11  Normalized feeling temperature in Celsius. The...     C             no  \n",
      "12  Normalized humidity. The values are divided to...  None             no  \n",
      "13  Normalized wind speed. The values are divided ...  None             no  \n",
      "14                              count of casual users  None             no  \n",
      "15                          count of registered users  None             no  \n",
      "16  count of total rental bikes including both cas...  None             no  \n"
     ]
    }
   ],
   "source": [
    "from ucimlrepo import fetch_ucirepo \n",
    "  \n",
    "# fetch dataset \n",
    "bike_sharing = fetch_ucirepo(id=275) \n",
    "  \n",
    "# data (as pandas dataframes) \n",
    "X = bike_sharing.data.features \n",
    "y = bike_sharing.data.targets \n",
    "  \n",
    "# metadata \n",
    "print(bike_sharing.metadata) \n",
    "  \n",
    "# variable information \n",
    "print(bike_sharing.variables) \n"
   ]
  },
  {
   "cell_type": "code",
   "execution_count": null,
   "id": "404216f0",
   "metadata": {},
   "outputs": [],
   "source": []
  }
 ],
 "metadata": {
  "kernelspec": {
   "display_name": "mlenv",
   "language": "python",
   "name": "python3"
  },
  "language_info": {
   "codemirror_mode": {
    "name": "ipython",
    "version": 3
   },
   "file_extension": ".py",
   "mimetype": "text/x-python",
   "name": "python",
   "nbconvert_exporter": "python",
   "pygments_lexer": "ipython3",
   "version": "3.10.18"
  }
 },
 "nbformat": 4,
 "nbformat_minor": 5
}
