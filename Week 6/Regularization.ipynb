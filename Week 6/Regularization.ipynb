{
 "cells": [
  {
   "cell_type": "code",
   "execution_count": 29,
   "id": "c2d15c91",
   "metadata": {},
   "outputs": [],
   "source": [
    "import torch\n",
    "import torch.nn as nn\n",
    "import torch.optim as optim\n",
    "import pandas as pd\n",
    "from sklearn.model_selection import train_test_split\n",
    "from sklearn.preprocessing import StandardScaler"
   ]
  },
  {
   "cell_type": "code",
   "execution_count": 30,
   "id": "e7ff2117",
   "metadata": {},
   "outputs": [],
   "source": [
    "# 1. Load dataset heart.csv\n",
    "df = pd.read_csv(\"../Data/heart.csv\")\n",
    "\n",
    "# Asumsi kolom terakhir adalah target\n",
    "X = df.drop(\"target\", axis=1).values\n",
    "y = df[\"target\"].values"
   ]
  },
  {
   "cell_type": "code",
   "execution_count": 31,
   "id": "4b798da4",
   "metadata": {},
   "outputs": [],
   "source": [
    "scaler = StandardScaler()\n",
    "X = scaler.fit_transform(X)"
   ]
  },
  {
   "cell_type": "code",
   "execution_count": 32,
   "id": "3361f3e1",
   "metadata": {},
   "outputs": [],
   "source": [
    "X_train, X_test, y_train, y_test = train_test_split(\n",
    "    X, y, test_size=0.2, random_state=42, stratify=y\n",
    ")"
   ]
  },
  {
   "cell_type": "code",
   "execution_count": 33,
   "id": "5736fed8",
   "metadata": {},
   "outputs": [],
   "source": [
    "X_train = torch.tensor(X_train, dtype=torch.float32)\n",
    "y_train = torch.tensor(y_train, dtype=torch.long)\n",
    "X_test = torch.tensor(X_test, dtype=torch.float32)\n",
    "y_test = torch.tensor(y_test, dtype=torch.long)\n"
   ]
  },
  {
   "cell_type": "code",
   "execution_count": 34,
   "id": "fbef1858",
   "metadata": {},
   "outputs": [],
   "source": [
    "def build_model(dropout1=0.0, dropout2=0.0):\n",
    "    layers = [\n",
    "        nn.Linear(X_train.shape[1], 32),\n",
    "        nn.ReLU(),\n",
    "    ]\n",
    "\n",
    "    if dropout1 > 0:\n",
    "        layers.append(nn.Dropout(dropout1))\n",
    "\n",
    "    layers.extend([\n",
    "        nn.Linear(32, 16),\n",
    "        nn.ReLU(),\n",
    "    ])\n",
    "\n",
    "    if dropout2 > 0:\n",
    "        layers.append(nn.Dropout(dropout2))\n",
    "        \n",
    "    layers.extend([\n",
    "        nn.Linear(16, 2)\n",
    "    ])\n",
    "    return nn.Sequential(*layers)"
   ]
  },
  {
   "cell_type": "code",
   "execution_count": 35,
   "id": "f09a3672",
   "metadata": {},
   "outputs": [],
   "source": [
    "def train_with_dropout(dropout1=0.5, dropout2=0.3, epochs=50):\n",
    "    print(f\"\\n=== Training with Dropout={dropout1} ===\")\n",
    "    model = build_model(dropout1=dropout1, dropout2=dropout2)\n",
    "    optimizer = optim.Adam(model.parameters(), lr=0.01)\n",
    "    criterion = nn.CrossEntropyLoss()\n",
    "\n",
    "    for epoch in range(epochs):\n",
    "        model.train()\n",
    "        optimizer.zero_grad()\n",
    "        outputs = model(X_train)\n",
    "        loss = criterion(outputs, y_train)\n",
    "        loss.backward()\n",
    "        optimizer.step()\n",
    "\n",
    "        if (epoch+1) % 10 == 0:\n",
    "            with torch.no_grad():\n",
    "                preds = model(X_test)\n",
    "                _, predicted = torch.max(preds, 1)\n",
    "                acc = (predicted == y_test).sum().item() / len(y_test)\n",
    "            print(f\"Epoch {epoch+1}: Loss={loss.item():.4f}, Acc={acc:.4f}\")"
   ]
  },
  {
   "cell_type": "code",
   "execution_count": 36,
   "id": "262ea1c9",
   "metadata": {},
   "outputs": [],
   "source": [
    "def train_with_l2(l2_lambda=0.01, epochs=50):\n",
    "    print(f\"\\n=== Training with L2 (lambda={l2_lambda}) ===\")\n",
    "    model = build_model(dropout1=0.0, dropout2=0.0)\n",
    "    optimizer = optim.Adam(model.parameters(), lr=0.01, weight_decay=l2_lambda)\n",
    "    criterion = nn.CrossEntropyLoss()\n",
    "\n",
    "    for epoch in range(epochs):\n",
    "        model.train()\n",
    "        optimizer.zero_grad()\n",
    "        outputs = model(X_train)\n",
    "        loss = criterion(outputs, y_train)\n",
    "        loss.backward()\n",
    "        optimizer.step()\n",
    "\n",
    "        if (epoch+1) % 10 == 0:\n",
    "            with torch.no_grad():\n",
    "                preds = model(X_test)\n",
    "                _, predicted = torch.max(preds, 1)\n",
    "                acc = (predicted == y_test).sum().item() / len(y_test)\n",
    "            print(f\"Epoch {epoch+1}: Loss={loss.item():.4f}, Acc={acc:.4f}\")"
   ]
  },
  {
   "cell_type": "code",
   "execution_count": 37,
   "id": "e7aa6032",
   "metadata": {},
   "outputs": [],
   "source": [
    "def train_with_l1(l1_lambda=0.001, epochs=50):\n",
    "    print(f\"\\n=== Training with L1 (lambda={l1_lambda}) ===\")\n",
    "    model = build_model(dropout1=0.0, dropout2=0.0)\n",
    "    optimizer = optim.Adam(model.parameters(), lr=0.01)\n",
    "    criterion = nn.CrossEntropyLoss()\n",
    "\n",
    "    for epoch in range(epochs):\n",
    "        model.train()\n",
    "        optimizer.zero_grad()\n",
    "        outputs = model(X_train)\n",
    "        loss = criterion(outputs, y_train)\n",
    "\n",
    "        # Tambahkan L1 penalty\n",
    "        l1_norm = sum(p.abs().sum() for p in model.parameters())\n",
    "        loss = loss + l1_lambda * l1_norm\n",
    "\n",
    "        loss.backward()\n",
    "        optimizer.step()\n",
    "\n",
    "        if (epoch+1) % 10 == 0:\n",
    "            with torch.no_grad():\n",
    "                preds = model(X_test)\n",
    "                _, predicted = torch.max(preds, 1)\n",
    "                acc = (predicted == y_test).sum().item() / len(y_test)\n",
    "            print(f\"Epoch {epoch+1}: Loss={loss.item():.4f}, Acc={acc:.4f}\")"
   ]
  },
  {
   "cell_type": "code",
   "execution_count": 38,
   "id": "dff4ce46",
   "metadata": {},
   "outputs": [
    {
     "name": "stdout",
     "output_type": "stream",
     "text": [
      "\n",
      "=== Training with Dropout=0.5 ===\n",
      "Epoch 10: Loss=0.5172, Acc=0.7951\n",
      "Epoch 20: Loss=0.3918, Acc=0.8146\n",
      "Epoch 30: Loss=0.3547, Acc=0.8439\n",
      "Epoch 40: Loss=0.3069, Acc=0.8341\n",
      "Epoch 50: Loss=0.3072, Acc=0.8488\n",
      "\n",
      "=== Training with L2 (lambda=0.01) ===\n",
      "Epoch 10: Loss=0.3772, Acc=0.8195\n",
      "Epoch 20: Loss=0.3143, Acc=0.8488\n",
      "Epoch 30: Loss=0.2758, Acc=0.8683\n",
      "Epoch 40: Loss=0.2243, Acc=0.8878\n",
      "Epoch 50: Loss=0.1719, Acc=0.9268\n",
      "\n",
      "=== Training with L1 (lambda=0.001) ===\n",
      "Epoch 10: Loss=0.4979, Acc=0.8049\n",
      "Epoch 20: Loss=0.4271, Acc=0.8488\n",
      "Epoch 30: Loss=0.3772, Acc=0.8683\n",
      "Epoch 40: Loss=0.3389, Acc=0.8878\n",
      "Epoch 50: Loss=0.3009, Acc=0.9024\n"
     ]
    }
   ],
   "source": [
    "# 5. Eksperimen\n",
    "train_with_dropout(dropout1=0.5, dropout2=0.3, epochs=50)\n",
    "train_with_l2(l2_lambda=0.01, epochs=50)\n",
    "train_with_l1(l1_lambda=0.001, epochs=50)"
   ]
  },
  {
   "cell_type": "code",
   "execution_count": null,
   "id": "1fb65417",
   "metadata": {},
   "outputs": [],
   "source": []
  }
 ],
 "metadata": {
  "kernelspec": {
   "display_name": "mlenv",
   "language": "python",
   "name": "python3"
  },
  "language_info": {
   "codemirror_mode": {
    "name": "ipython",
    "version": 3
   },
   "file_extension": ".py",
   "mimetype": "text/x-python",
   "name": "python",
   "nbconvert_exporter": "python",
   "pygments_lexer": "ipython3",
   "version": "3.10.18"
  }
 },
 "nbformat": 4,
 "nbformat_minor": 5
}
